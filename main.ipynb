{
 "cells": [
  {
   "cell_type": "markdown",
   "id": "485980aa",
   "metadata": {},
   "source": [
    "#import both data sets\n",
    "\n",
    "\n",
    "#create custom perceptron \n",
    "#compare with sci-kit learn svm and logistic regression\n",
    "#use sci-kit learn for accuracy and confusion matrices\n",
    "\n",
    "\n"
   ]
  },
  {
   "cell_type": "code",
   "execution_count": 11,
   "id": "31b281ec",
   "metadata": {
    "vscode": {
     "languageId": "shellscript"
    }
   },
   "outputs": [
    {
     "name": "stdout",
     "output_type": "stream",
     "text": [
      "Requirement already satisfied: ucimlrepo in ./venv/lib/python3.13/site-packages (0.0.7)\n",
      "Requirement already satisfied: pandas>=1.0.0 in ./venv/lib/python3.13/site-packages (from ucimlrepo) (2.3.3)\n",
      "Requirement already satisfied: certifi>=2020.12.5 in ./venv/lib/python3.13/site-packages (from ucimlrepo) (2025.10.5)\n",
      "Requirement already satisfied: numpy>=1.26.0 in ./venv/lib/python3.13/site-packages (from pandas>=1.0.0->ucimlrepo) (2.3.4)\n",
      "Requirement already satisfied: python-dateutil>=2.8.2 in ./venv/lib/python3.13/site-packages (from pandas>=1.0.0->ucimlrepo) (2.9.0.post0)\n",
      "Requirement already satisfied: pytz>=2020.1 in ./venv/lib/python3.13/site-packages (from pandas>=1.0.0->ucimlrepo) (2025.2)\n",
      "Requirement already satisfied: tzdata>=2022.7 in ./venv/lib/python3.13/site-packages (from pandas>=1.0.0->ucimlrepo) (2025.2)\n",
      "Requirement already satisfied: six>=1.5 in ./venv/lib/python3.13/site-packages (from python-dateutil>=2.8.2->pandas>=1.0.0->ucimlrepo) (1.17.0)\n",
      "\n",
      "\u001b[1m[\u001b[0m\u001b[34;49mnotice\u001b[0m\u001b[1;39;49m]\u001b[0m\u001b[39;49m A new release of pip is available: \u001b[0m\u001b[31;49m25.0\u001b[0m\u001b[39;49m -> \u001b[0m\u001b[32;49m25.2\u001b[0m\n",
      "\u001b[1m[\u001b[0m\u001b[34;49mnotice\u001b[0m\u001b[1;39;49m]\u001b[0m\u001b[39;49m To update, run: \u001b[0m\u001b[32;49mpip install --upgrade pip\u001b[0m\n",
      "Note: you may need to restart the kernel to use updated packages.\n"
     ]
    }
   ],
   "source": [
    "pip install ucimlrepo\n"
   ]
  },
  {
   "cell_type": "code",
   "execution_count": 17,
   "id": "8baaf6f8",
   "metadata": {
    "vscode": {
     "languageId": "shellscript"
    }
   },
   "outputs": [
    {
     "name": "stdout",
     "output_type": "stream",
     "text": [
      "Requirement already satisfied: ucimlrepo in ./venv/lib/python3.13/site-packages (0.0.7)\n",
      "Requirement already satisfied: pandas>=1.0.0 in ./venv/lib/python3.13/site-packages (from ucimlrepo) (2.3.3)\n",
      "Requirement already satisfied: certifi>=2020.12.5 in ./venv/lib/python3.13/site-packages (from ucimlrepo) (2025.10.5)\n",
      "Requirement already satisfied: numpy>=1.26.0 in ./venv/lib/python3.13/site-packages (from pandas>=1.0.0->ucimlrepo) (2.3.4)\n",
      "Requirement already satisfied: python-dateutil>=2.8.2 in ./venv/lib/python3.13/site-packages (from pandas>=1.0.0->ucimlrepo) (2.9.0.post0)\n",
      "Requirement already satisfied: pytz>=2020.1 in ./venv/lib/python3.13/site-packages (from pandas>=1.0.0->ucimlrepo) (2025.2)\n",
      "Requirement already satisfied: tzdata>=2022.7 in ./venv/lib/python3.13/site-packages (from pandas>=1.0.0->ucimlrepo) (2025.2)\n",
      "Requirement already satisfied: six>=1.5 in ./venv/lib/python3.13/site-packages (from python-dateutil>=2.8.2->pandas>=1.0.0->ucimlrepo) (1.17.0)\n",
      "\n",
      "\u001b[1m[\u001b[0m\u001b[34;49mnotice\u001b[0m\u001b[1;39;49m]\u001b[0m\u001b[39;49m A new release of pip is available: \u001b[0m\u001b[31;49m25.0\u001b[0m\u001b[39;49m -> \u001b[0m\u001b[32;49m25.2\u001b[0m\n",
      "\u001b[1m[\u001b[0m\u001b[34;49mnotice\u001b[0m\u001b[1;39;49m]\u001b[0m\u001b[39;49m To update, run: \u001b[0m\u001b[32;49mpip install --upgrade pip\u001b[0m\n",
      "Note: you may need to restart the kernel to use updated packages.\n"
     ]
    }
   ],
   "source": [
    "pip install ucimlrepo"
   ]
  },
  {
   "cell_type": "code",
   "execution_count": null,
   "id": "bbe0b08b",
   "metadata": {},
   "outputs": [],
   "source": [
    "import numpy as np\n",
    "import pandas as pd\n",
    "import matplotlib.pyplot as plt\n",
    "\n",
    "from sklearn.model_selection import train_test_split \n",
    "from sklearn.linear_model import LogisticRegression\n",
    "from sklearn.metrics import accuracy_score, confusion_matrix\n",
    "from sklearn.preprocessing import StandardScaler\n",
    "from sklearn.svm import LinearSVC\n",
    "\n",
    "\n"
   ]
  },
  {
   "cell_type": "code",
   "execution_count": null,
   "id": "5ac76fce",
   "metadata": {},
   "outputs": [
    {
     "name": "stdout",
     "output_type": "stream",
     "text": [
      "Dev SVM Accuracy: 0.9289855072463769\n",
      "Spambase SVM Test Accuracy: 0.9304347826086956\n",
      "Spambase SVM Confusion Matrix:\n",
      " [[397  21]\n",
      " [ 27 245]]\n"
     ]
    }
   ],
   "source": [
    "\n",
    "\n",
    "\n",
    "df = pd.read_csv(\"/Users/anvith/hw2_ml/spambase.data\") \n",
    "\n",
    "\n",
    "\n",
    "X = df.iloc[:, :-1].values #take all columns except last as features because last is label, columns is one attribute and rows are entire samples\n",
    "y = df.iloc[:, -1].values #labels for spam or not spam, takes values only and converts into numpy array for sci-kit learn compatibility\n",
    "\n",
    "\n",
    "\n",
    "#initial 70-30 split of test\n",
    "X_train, X_test, y_train, y_test = train_test_split( #X_train is the training feautres, y train is training labels and X_test is test features and y_test is test labels\n",
    "    X, y, test_size=0.30, stratify=y, random_state=42\n",
    ")\n",
    "#now split the 30% test into dev and final test 50-50\n",
    "X_dev, X_test, y_dev, y_test = train_test_split( #always outputs in this order\n",
    "    X_test, y_test, test_size=0.50, stratify=y_test, random_state=42\n",
    ")\n",
    "\n",
    "model = LinearSVC(C=1.0, penalty=\"l2\", loss=\"squared_hinge\", random_state=42, max_iter=5000) # tested a bunch of different C values here, the value of C determines the regularization strength, regularization helps prevent overfitting by adding a penalty to the loss function for large weights, smaller C means stronger regularization, larger C means weaker regularization\n",
    "model.fit(X_train, y_train) #training the model based on training split and training labels\n",
    "\n",
    "\n",
    "y_dev_pred = model.predict(X_dev) #predicting on dev set\n",
    "dev_accuracy = accuracy_score(y_dev, y_dev_pred) #comparing predicted labels to actual labels to get accuracy\n",
    "print(\"Dev SVM Accuracy:\", dev_accuracy)\n",
    "\n",
    "\n",
    "y_pred = model.predict(X_test) #outputs predicted labels based on test features\n",
    "\n",
    "\n",
    "spam_accuracy = accuracy_score(y_test, y_pred) #comparing predicted labels to actual labels to get accuracy\n",
    "spam_confusion = confusion_matrix(y_test, y_pred) #confusion matrix to see true positives, true negatives, false positives, false negatives\n",
    "\n",
    "print(\"Spambase SVM Test Accuracy:\", spam_accuracy)\n",
    "print(\"Spambase SVM Confusion Matrix:\\n\", spam_confusion)\n",
    "\n",
    "\n",
    "\n",
    "\n",
    "\n",
    "\n",
    "\n",
    "\n",
    "\n"
   ]
  },
  {
   "cell_type": "code",
   "execution_count": 25,
   "id": "3d398028",
   "metadata": {},
   "outputs": [
    {
     "name": "stdout",
     "output_type": "stream",
     "text": [
      "Accuracy: 0.9326086956521739\n",
      "Confusion Matrix:\n",
      " [[266  13]\n",
      " [ 18 163]]\n"
     ]
    },
    {
     "data": {
      "image/png": "[encoded data removed]",
      "text/plain": [
       "<Figure size 480x480 with 2 Axes>"
      ]
     },
     "metadata": {},
     "output_type": "display_data"
    }
   ],
   "source": [
    "#TESTING LOGISTIC REGRESSION ON SPAMBASE DATASET\n",
    "\n",
    "X = df.iloc[:, :-1].values # feature matrix\n",
    "y = df.iloc[:, -1].values # target vector\n",
    "\n",
    "X_train, X_dev_test, y_train, y_dev_test = train_test_split( # split into train and dev+test\n",
    "    X, y, test_size=0.20, stratify=y, random_state=42 # ensure reproducibility and maintain class distribution\n",
    ")\n",
    "\n",
    "X_dev, X_test, y_dev, y_test = train_test_split( # split dev+test into dev and test\n",
    "    X_dev_test, y_dev_test, test_size=0.50, stratify=y_dev_test, random_state=42\n",
    ")\n",
    "\n",
    "scaler = StandardScaler() # standardize features\n",
    "X_train = scaler.fit_transform(X_train)\n",
    "X_dev = scaler.transform(X_dev)\n",
    "X_test = scaler.transform(X_test)\n",
    "\n",
    "model = LogisticRegression(max_iter=1000) # initialize logistic regression model\n",
    "model.fit(X_train, y_train)\n",
    "\n",
    "y_pred = model.predict(X_test) # predict on test set\n",
    "\n",
    "accuracy = accuracy_score(y_test, y_pred) # calculate accuracy\n",
    "confusion = confusion_matrix(y_test, y_pred) # calculate confusion matrix\n",
    "\n",
    "print(\"Accuracy:\", accuracy) \n",
    "print(\"Confusion Matrix:\\n\", confusion)\n",
    "\n",
    "plt.matshow(confusion, cmap=plt.cm.Blues)\n",
    "plt.title('Confusion Matrix – Logistic Regression')\n",
    "plt.colorbar()\n",
    "plt.xlabel('Predicted Label')\n",
    "plt.ylabel('True Label')\n",
    "plt.show()\n"
   ]
  },
  {
   "cell_type": "code",
   "execution_count": null,
   "id": "59737747",
   "metadata": {},
   "outputs": [
    {
     "name": "stdout",
     "output_type": "stream",
     "text": [
      "Dev Accuracy: 0.9196\n",
      "Test Accuracy: 0.9283\n",
      "Confusion Matrix:\n",
      " [[261  18]\n",
      " [ 15 166]]\n"
     ]
    },
    {
     "data": {
      "image/png": "[encoded data removed]",
      "text/plain": [
       "<Figure size 480x480 with 2 Axes>"
      ]
     },
     "metadata": {},
     "output_type": "display_data"
    }
   ],
   "source": [
    "#MY PERCEPTRON IMPLEMENTATION ON SPAMBASE DATASET\n",
    "\n",
    "\n",
    "class CustomPerceptron:\n",
    "    def __init__(self, learning_rate=0.01, n_iters=1000):\n",
    "        self.lr = learning_rate\n",
    "        self.n_iters = n_iters\n",
    "        self.weights = None\n",
    "        self.bias = None\n",
    "\n",
    "    def fit(self, X, y):\n",
    "        n_samples, n_features = X.shape\n",
    "        self.weights = np.zeros(n_features)\n",
    "        self.bias = 0.0\n",
    "        y_ = np.where(y == 0, -1, 1)\n",
    "        for _ in range(self.n_iters):\n",
    "            for idx, x_i in enumerate(X):\n",
    "                linear_output = np.dot(x_i, self.weights) + self.bias\n",
    "                if y_[idx] * linear_output <= 0:\n",
    "                    self.weights += self.lr * y_[idx] * x_i\n",
    "                    self.bias    += self.lr * y_[idx]\n",
    "\n",
    "    def predict(self, X):\n",
    "        linear_output = np.dot(X, self.weights) + self.bias\n",
    "        y_predicted = np.where(linear_output >= 0, 1, -1)\n",
    "        return np.where(y_predicted == -1, 0, 1)\n",
    "\n",
    "\n",
    "X = df.iloc[:, :-1].values\n",
    "y = df.iloc[:, -1].values\n",
    "\n",
    "# 2) Split into train (80%) and holdout (20%), then split holdout into dev (10%) and test (10%)\n",
    "X_train, X_hold, y_train, y_hold = train_test_split(\n",
    "    X, y, test_size=0.20, stratify=y, random_state=42\n",
    ")\n",
    "X_dev, X_test, y_dev, y_test = train_test_split(\n",
    "    X_hold, y_hold, test_size=0.50, stratify=y_hold, random_state=42\n",
    ")\n",
    "\n",
    "# 3) Scale using train-only statistics\n",
    "scaler = StandardScaler()\n",
    "X_train = scaler.fit_transform(X_train)\n",
    "X_dev   = scaler.transform(X_dev)\n",
    "X_test  = scaler.transform(X_test)\n",
    "\n",
    "# 4) Instantiate and train perceptron\n",
    "perc = CustomPerceptron(learning_rate=0.01, n_iters=1000)\n",
    "perc.fit(X_train, y_train)\n",
    "\n",
    "# 5) Dev evaluation (useful for tuning learning_rate or n_iters)\n",
    "y_dev_pred = perc.predict(X_dev)\n",
    "dev_acc = accuracy_score(y_dev, y_dev_pred)\n",
    "print(f\"Dev Accuracy: {dev_acc:.4f}\")\n",
    "\n",
    "# 6) Final test evaluation\n",
    "y_test_pred = perc.predict(X_test)\n",
    "test_acc = accuracy_score(y_test, y_test_pred)\n",
    "cm = confusion_matrix(y_test, y_test_pred)\n",
    "print(f\"Test Accuracy: {test_acc:.4f}\")\n",
    "print(\"Confusion Matrix:\\n\", cm)\n",
    "\n",
    "# 7) Visualize confusion matrix\n",
    "plt.matshow(cm, cmap=plt.cm.Blues)\n",
    "plt.title('Confusion Matrix – Custom Perceptron (Test)')\n",
    "plt.colorbar()\n",
    "plt.xlabel('Predicted')\n",
    "plt.ylabel('True')\n",
    "plt.show()"
   ]
  },
  {
   "cell_type": "code",
   "execution_count": null,
   "id": "1c04b146",
   "metadata": {},
   "outputs": [],
   "source": [
    "#PERCEPTRON IMPLEMENTATION ON DUTCH/ENGLISH DATASET\n",
    "#import txt files and load line by line, use this for rest of code, run model training and evaluation similar to above\n",
    "#first train on basic dutch.txt and english.txt files, then devlpo using dev sets and then test on test sets finally\n",
    "#objective is to classify dutch vs english text files based on content\n",
    "from pathlib import Path  # <-- needed for Path.read_text\n",
    "from typing import List, Tuple\n",
    "#defining paths, no need to split into train and test here as we have separate files for that\n",
    "EN_PATH = \"/Users/anvith/hw2_ml/universal-declaration/dutch.txt\" # each line is a one sentence sample\n",
    "DU_PATH = \"/Users/anvith/hw2_ml/universal-declaration/english.txt\" # each line is a one sentence sample\n",
    "test_EN_PATH = \"/Users/anvith/hw2_ml/universal-declaration/test_en.txt\"\n",
    "test_DU_PATH = \"/Users/anvith/hw2_ml/universal-declaration/test_du.txt\"\n",
    "dev_du_PATH = \"/Users/anvith/hw2_ml/universal-declaration/developmentdutch.txt\" # each line is a one sentence sample\n",
    "dev_en_PATH = \"/Users/anvith/hw2_ml/universal-declaration/developmenteng.txt\"\n",
    "\n",
    "\n",
    "\n",
    "#EN = 0, NL = 1\n",
    "\n",
    "#create X_en_y as all labels being 0 for english and X_du_y as all labels being 1 for dutch\n",
    "#defining paths, no need to split into train and test here as we have separate files for that\n",
    "\n",
    "#concatenate dutch and english data into one dataset for training after adding appropriate labels to each of them for all the splits\n",
    "\n",
    "#load_line helper\n",
    "\n",
    "label_map = {\"EN\": 0, \"DU\": 1}\n",
    "\n",
    "\n",
    "def load_labeled_lines(path: str, label: int) -> Tuple[List[str], List[int]]:\n",
    "    lines = Path(path).read_text(encoding=\"utf-8\", errors=\"ignore\").splitlines()\n",
    "    X = [ln.strip() for ln in lines if ln.strip()]\n",
    "    y = [label] * len(X)\n",
    "    return X, y #returning features and labels for future use\n",
    "\n",
    "#training set\n",
    "X_en_train, y_en_train = load_labeled_lines(EN_PATH, label_map[\"EN\"])\n",
    "X_du_train, y_du_train = load_labeled_lines(DU_PATH, label_map[\"DU\"])\n",
    "X_train = X_en_train + X_du_train #combining english and dutch features for training set to feed into model for training and evaluation\n",
    "y_train = y_en_train + y_du_train #combining english and dutch labels for training set to feed into model for training and evaluation\n",
    "\n",
    "#development set(20 lines each)\n",
    "X_en_dev, y_en_dev = load_labeled_lines(dev_en_PATH, label_map[\"EN\"])\n",
    "X_du_dev, y_du_dev = load_labeled_lines(dev_du_PATH, label_map[\"DU\"])\n",
    "X_dev = X_en_dev + X_du_dev\n",
    "y_dev = y_en_dev + y_du_dev\n",
    "\n",
    "#test set(20 lines each)\n",
    "X_en_test, y_en_test = load_labeled_lines(test_EN_PATH, label_map[\"EN\"])\n",
    "X_du_test, y_du_test = load_labeled_lines(test_DU_PATH, label_map[\"DU\"])\n",
    "X_test = X_en_test + X_du_test\n",
    "y_test = y_en_test + y_du_test\n",
    "\n",
    "\n",
    "\n",
    "\n",
    "\n",
    "\n",
    "\n"
   ]
  },
  {
   "cell_type": "code",
   "execution_count": null,
   "id": "700b690d",
   "metadata": {},
   "outputs": [],
   "source": [
    "#SVM IMPLEMENTATION ON DUTCH/ENGLISH DATASET"
   ]
  },
  {
   "cell_type": "code",
   "execution_count": null,
   "id": "7266289a",
   "metadata": {},
   "outputs": [],
   "source": [
    "#LOGISTIC REGRESSION IMPLEMENTATION ON DUTCH/ENGLISH DATASET"
   ]
  }
 ],
 "metadata": {
  "kernelspec": {
   "display_name": "venv",
   "language": "python",
   "name": "python3"
  },
  "language_info": {
   "codemirror_mode": {
    "name": "ipython",
    "version": 3
   },
   "file_extension": ".py",
   "mimetype": "text/x-python",
   "name": "python",
   "nbconvert_exporter": "python",
   "pygments_lexer": "ipython3",
   "version": "3.13.2"
  }
 },
 "nbformat": 4,
 "nbformat_minor": 5
}
